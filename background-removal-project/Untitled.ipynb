{
 "cells": [
  {
   "cell_type": "code",
   "execution_count": 1,
   "id": "ca7fac90",
   "metadata": {},
   "outputs": [
    {
     "ename": "KeyboardInterrupt",
     "evalue": "",
     "output_type": "error",
     "traceback": [
      "\u001b[1;31m----------------------------------------------------------------------\u001b[0m",
      "\u001b[1;31mKeyboardInterrupt\u001b[0m                    Traceback (most recent call last)",
      "Cell \u001b[1;32mIn[1], line 25\u001b[0m\n\u001b[0;32m     22\u001b[0m cap \u001b[38;5;241m=\u001b[39m cv2\u001b[38;5;241m.\u001b[39mVideoCapture(\u001b[38;5;241m0\u001b[39m)\n\u001b[0;32m     24\u001b[0m \u001b[38;5;28;01mwhile\u001b[39;00m cap\u001b[38;5;241m.\u001b[39misOpened():\n\u001b[1;32m---> 25\u001b[0m     _, frame \u001b[38;5;241m=\u001b[39m \u001b[43mcap\u001b[49m\u001b[38;5;241;43m.\u001b[39;49m\u001b[43mread\u001b[49m\u001b[43m(\u001b[49m\u001b[43m)\u001b[49m\n\u001b[0;32m     27\u001b[0m     \u001b[38;5;66;03m# flip the frame to horizontal direction\u001b[39;00m\n\u001b[0;32m     28\u001b[0m     frame \u001b[38;5;241m=\u001b[39m cv2\u001b[38;5;241m.\u001b[39mflip(frame, \u001b[38;5;241m1\u001b[39m)\n",
      "\u001b[1;31mKeyboardInterrupt\u001b[0m: "
     ]
    }
   ],
   "source": [
    "# DataFlair background removal \n",
    "\n",
    "# import necessary packages\n",
    "import os\n",
    "import cv2\n",
    "import numpy as np\n",
    "import mediapipe as mp\n",
    "\n",
    "\n",
    "# initialize mediapipe \n",
    "mp_selfie_segmentation = mp.solutions.selfie_segmentation\n",
    "selfie_segmentation = mp_selfie_segmentation.SelfieSegmentation(model_selection=1)\n",
    "\n",
    "# store background images in a list\n",
    "image_path = 'images'\n",
    "images = os.listdir(image_path)\n",
    "\n",
    "image_index= 0\n",
    "bg_image = cv2.imread(image_path+'/'+images[image_index])\n",
    "\n",
    "# create videocapture object to access the webcam\n",
    "cap = cv2.VideoCapture(0)\n",
    "\n",
    "while cap.isOpened():\n",
    "    _, frame = cap.read()\n",
    "\n",
    "    # flip the frame to horizontal direction\n",
    "    frame = cv2.flip(frame, 1)\n",
    "    height , width, channel = frame.shape\n",
    "\n",
    "    RGB = cv2.cvtColor(frame, cv2.COLOR_BGR2RGB)\n",
    "\n",
    "    # get the result \n",
    "    results = selfie_segmentation.process(RGB)\n",
    "\n",
    "    # extract segmented mask\n",
    "    mask = results.segmentation_mask\n",
    "\n",
    "    # it returns true or false where the condition applies in the mask\n",
    "    condition = np.stack(\n",
    "      (results.segmentation_mask,) * 3, axis=-1) > 0.6\n",
    "\n",
    "    # resize the background image to the same size of the original frame\n",
    "    bg_image = cv2.resize(bg_image, (width, height))\n",
    "\n",
    "    # combine frame and background image using the condition\n",
    "    output_image = np.where(condition, frame, bg_image)\n",
    "\n",
    "    # show outputs\n",
    "    #cv2.imshow(\"mask\", mask)\n",
    "    cv2.imshow(\"Output\", output_image)\n",
    "    cv2.imshow(\"Frame\", frame)\n",
    "\n",
    "    key = cv2.waitKey(1)\n",
    "    if key == ord('q'):\n",
    "        break\n",
    "\n",
    "    # if 'd' key is pressed then change the background image\n",
    "    elif key == ord('d'):\n",
    "\n",
    "        if image_index != len(images)-1:\n",
    "            image_index += 1\n",
    "        else:\n",
    "            image_index = 0\n",
    "        bg_image = cv2.imread(image_path+'/'+images[image_index])\n",
    "\n",
    "\n",
    "# release the capture object and close all active windows \n",
    "cap.release()\n",
    "cv2.destroyAllWindows()"
   ]
  },
  {
   "cell_type": "code",
   "execution_count": null,
   "id": "6cce516b",
   "metadata": {},
   "outputs": [],
   "source": []
  }
 ],
 "metadata": {
  "kernelspec": {
   "display_name": "Python 3 (ipykernel)",
   "language": "python",
   "name": "python3"
  },
  "language_info": {
   "codemirror_mode": {
    "name": "ipython",
    "version": 3
   },
   "file_extension": ".py",
   "mimetype": "text/x-python",
   "name": "python",
   "nbconvert_exporter": "python",
   "pygments_lexer": "ipython3",
   "version": "3.10.5"
  }
 },
 "nbformat": 4,
 "nbformat_minor": 5
}
